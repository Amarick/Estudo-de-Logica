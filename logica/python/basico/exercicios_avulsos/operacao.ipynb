{
 "cells": [
  {
   "cell_type": "code",
   "execution_count": 2,
   "metadata": {},
   "outputs": [
    {
     "name": "stdout",
     "output_type": "stream",
     "text": [
      "30\n",
      "-10\n",
      "200\n",
      "0.5\n",
      "0\n",
      "2\n",
      "8\n"
     ]
    }
   ],
   "source": [
    "numero1 = 10\n",
    "numero2 = 20\n",
    "\n",
    "print(numero1 + numero2)\n",
    "print(numero1 - numero2)\n",
    "print(numero1 * numero2)\n",
    "print(numero1 / numero2)\n",
    "print(numero1 // numero2)\n",
    "print(20 % 3)\n",
    "print(2 ** 3)"
   ]
  }
 ],
 "metadata": {
  "kernelspec": {
   "display_name": "Python 3",
   "language": "python",
   "name": "python3"
  },
  "language_info": {
   "codemirror_mode": {
    "name": "ipython",
    "version": 3
   },
   "file_extension": ".py",
   "mimetype": "text/x-python",
   "name": "python",
   "nbconvert_exporter": "python",
   "pygments_lexer": "ipython3",
   "version": "3.10.5"
  }
 },
 "nbformat": 4,
 "nbformat_minor": 2
}
